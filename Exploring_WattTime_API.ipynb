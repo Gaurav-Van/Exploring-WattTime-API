{
  "nbformat": 4,
  "nbformat_minor": 0,
  "metadata": {
    "colab": {
      "provenance": [],
      "gpuType": "T4"
    },
    "kernelspec": {
      "name": "python3",
      "display_name": "Python 3"
    },
    "language_info": {
      "name": "python"
    },
    "accelerator": "GPU"
  },
  "cells": [
    {
      "cell_type": "code",
      "execution_count": 1,
      "metadata": {
        "id": "7aGMkAqDfdxk"
      },
      "outputs": [],
      "source": [
        "import requests\n",
        "from requests.auth import HTTPBasicAuth\n",
        "import json\n",
        "import pandas as pd\n",
        "import matplotlib.pyplot as plt"
      ]
    },
    {
      "cell_type": "markdown",
      "source": [
        "#### `/register`\n",
        "\n",
        "`one time run with your username, password, email`"
      ],
      "metadata": {
        "id": "1NOnD4e9vShk"
      }
    },
    {
      "cell_type": "code",
      "source": [
        "register_url = 'https://api.watttime.org/register'\n",
        "params = {'username': 'your_username',\n",
        "         'password': 'your_password',\n",
        "         'email': 'your_email_id',\n",
        "         'org': 'optional_param'}\n",
        "rsp = requests.post(register_url, json=params)\n",
        "print(rsp.text)"
      ],
      "metadata": {
        "id": "GadSBkZvuW2h"
      },
      "execution_count": null,
      "outputs": []
    },
    {
      "cell_type": "markdown",
      "source": [
        "#### `/login`"
      ],
      "metadata": {
        "id": "waY_TxrIvdxb"
      }
    },
    {
      "cell_type": "code",
      "source": [
        "login_url = 'https://api.watttime.org/login'\n",
        "rsp = requests.get(login_url, auth=HTTPBasicAuth('your_username', 'your_password'))\n",
        "TOKEN = rsp.json()['token']\n",
        "print(TOKEN)"
      ],
      "metadata": {
        "id": "mNgTK2h1ussb"
      },
      "execution_count": null,
      "outputs": []
    },
    {
      "cell_type": "markdown",
      "source": [
        "#### Checking Access - `/v3/my-access`"
      ],
      "metadata": {
        "id": "zu0_HmWuvz4L"
      }
    },
    {
      "cell_type": "code",
      "source": [
        "url = \"https://api.watttime.org/v3/my-access\"\n",
        "headers = {\"Authorization\": f\"Bearer {TOKEN}\"}\n",
        "params = {}\n",
        "response = requests.get(url, headers=headers, params=params)\n",
        "response.raise_for_status()\n",
        "print(response.json())\n",
        "'''\n",
        "for i in response.json()['signal_types']:\n",
        "    for key, value in i.items():\n",
        "      print(f\"{key} \\n\\n {value} \\n\\n\")\n",
        "'''"
      ],
      "metadata": {
        "colab": {
          "base_uri": "https://localhost:8080/",
          "height": 73
        },
        "id": "4wI3pejjvuwG",
        "outputId": "3d1029b0-e170-4896-a109-46ef7ee94991"
      },
      "execution_count": 4,
      "outputs": [
        {
          "output_type": "stream",
          "name": "stdout",
          "text": [
            "{'signal_types': [{'signal_type': 'co2_moer', 'regions': [{'region': 'CAISO_NORTH', 'region_full_name': 'California ISO Northern', 'parent': 'CAISO', 'data_point_period_seconds': 300, 'endpoints': [{'endpoint': 'v3/historical', 'models': [{'model': '2022-10-01', 'data_start': '2020-01-01', 'train_start': '2020-03-01', 'train_end': '2022-03-01', 'type': 'binned_regression'}, {'model': '2023-03-01', 'data_start': '2020-03-01', 'train_start': '2021-01-01', 'train_end': '2023-03-01', 'type': 'binned_regression'}]}, {'endpoint': 'v3/forecast', 'models': [{'model': '2022-10-01', 'data_start': '2021-12-31', 'train_start': '2020-01-01', 'train_end': '2021-12-31'}, {'model': '2023-03-01', 'data_start': '2023-01-01', 'train_start': '2021-01-01', 'train_end': '2023-01-01'}]}]}]}, {'signal_type': 'health_damage', 'regions': [{'region': 'CAISO_NORTH', 'region_full_name': 'California ISO Northern', 'parent': 'CAISO', 'data_point_period_seconds': 300, 'endpoints': [{'endpoint': 'v3/historical', 'models': [{'model': '2022-10-01', 'data_start': '2020-01-01', 'train_start': '2020-03-01', 'train_end': '2022-03-01', 'type': 'binned_regression'}]}, {'endpoint': 'v3/forecast', 'models': [{'model': '2022-06-03', 'data_start': '2019-12-31', 'train_start': '2019-01-01', 'train_end': '2019-12-31'}, {'model': '2022-10-01', 'data_start': '2021-12-31', 'train_start': '2020-01-01', 'train_end': '2021-12-31'}]}]}]}]}\n"
          ]
        },
        {
          "output_type": "execute_result",
          "data": {
            "text/plain": [
              "'\\nfor i in response.json()[\\'signal_types\\']:\\n    for key, value in i.items():\\n      print(f\"{key} \\n\\n {value} \\n\\n\")\\n'"
            ],
            "application/vnd.google.colaboratory.intrinsic+json": {
              "type": "string"
            }
          },
          "metadata": {},
          "execution_count": 4
        }
      ]
    },
    {
      "cell_type": "code",
      "source": [
        "# Assuming response.json() returns the JSON data\n",
        "json_data = response.json()\n",
        "\n",
        "# Extract the 'signal_types' key\n",
        "data = json_data['signal_types']\n",
        "\n",
        "\n",
        "# Normalize the JSON data\n",
        "# Normalize the JSON data\n",
        "df = pd.json_normalize(data, record_path=['regions', 'endpoints', 'models'],\n",
        "                       meta=['signal_type', ['regions', 'region'],\n",
        "                             ['regions', 'region_full_name'], ['regions', 'parent'],\n",
        "                             ['regions', 'data_point_period_seconds'],\n",
        "                             ['regions', 'endpoints', 'endpoint']])\n",
        "\n",
        "# Display the DataFrame\n",
        "for i in df.columns:\n",
        "    print(f\"\\n----{i}------\\n {df[i].value_counts()} \\n----------\\n\")"
      ],
      "metadata": {
        "colab": {
          "base_uri": "https://localhost:8080/",
          "height": 0
        },
        "id": "dwNaqLjXvyj9",
        "outputId": "da69dbcc-aa08-4e81-fbcd-640ed1a051a5"
      },
      "execution_count": 5,
      "outputs": [
        {
          "output_type": "stream",
          "name": "stdout",
          "text": [
            "\n",
            "----model------\n",
            " model\n",
            "2022-10-01    4\n",
            "2023-03-01    2\n",
            "2022-06-03    1\n",
            "Name: count, dtype: int64 \n",
            "----------\n",
            "\n",
            "\n",
            "----data_start------\n",
            " data_start\n",
            "2020-01-01    2\n",
            "2021-12-31    2\n",
            "2020-03-01    1\n",
            "2023-01-01    1\n",
            "2019-12-31    1\n",
            "Name: count, dtype: int64 \n",
            "----------\n",
            "\n",
            "\n",
            "----train_start------\n",
            " train_start\n",
            "2020-03-01    2\n",
            "2021-01-01    2\n",
            "2020-01-01    2\n",
            "2019-01-01    1\n",
            "Name: count, dtype: int64 \n",
            "----------\n",
            "\n",
            "\n",
            "----train_end------\n",
            " train_end\n",
            "2022-03-01    2\n",
            "2021-12-31    2\n",
            "2023-03-01    1\n",
            "2023-01-01    1\n",
            "2019-12-31    1\n",
            "Name: count, dtype: int64 \n",
            "----------\n",
            "\n",
            "\n",
            "----type------\n",
            " type\n",
            "binned_regression    3\n",
            "Name: count, dtype: int64 \n",
            "----------\n",
            "\n",
            "\n",
            "----signal_type------\n",
            " signal_type\n",
            "co2_moer         4\n",
            "health_damage    3\n",
            "Name: count, dtype: int64 \n",
            "----------\n",
            "\n",
            "\n",
            "----regions.region------\n",
            " regions.region\n",
            "CAISO_NORTH    7\n",
            "Name: count, dtype: int64 \n",
            "----------\n",
            "\n",
            "\n",
            "----regions.region_full_name------\n",
            " regions.region_full_name\n",
            "California ISO Northern    7\n",
            "Name: count, dtype: int64 \n",
            "----------\n",
            "\n",
            "\n",
            "----regions.parent------\n",
            " regions.parent\n",
            "CAISO    7\n",
            "Name: count, dtype: int64 \n",
            "----------\n",
            "\n",
            "\n",
            "----regions.data_point_period_seconds------\n",
            " regions.data_point_period_seconds\n",
            "300    7\n",
            "Name: count, dtype: int64 \n",
            "----------\n",
            "\n",
            "\n",
            "----regions.endpoints.endpoint------\n",
            " regions.endpoints.endpoint\n",
            "v3/forecast      4\n",
            "v3/historical    3\n",
            "Name: count, dtype: int64 \n",
            "----------\n",
            "\n"
          ]
        }
      ]
    },
    {
      "cell_type": "markdown",
      "source": [
        "#### Grid Region: `/v3/region-from-loc`"
      ],
      "metadata": {
        "id": "jJJjWjVl0zRC"
      }
    },
    {
      "cell_type": "code",
      "source": [
        "url = \"https://api.watttime.org/v3/region-from-loc\"\n",
        "\n",
        "headers = {\"Authorization\": f\"Bearer {TOKEN}\"}\n",
        "params = {\"latitude\": \"32.372\", \"longitude\": \"-87.519\", \"signal_type\": \"co2_moer\"}\n",
        "response = requests.get(url, headers=headers, params=params)\n",
        "response.raise_for_status()\n",
        "print(response.json())"
      ],
      "metadata": {
        "colab": {
          "base_uri": "https://localhost:8080/",
          "height": 0
        },
        "id": "g70RVP520hs2",
        "outputId": "6a52ba59-a9cd-4895-fbd1-7e1e7e0693c6"
      },
      "execution_count": 6,
      "outputs": [
        {
          "output_type": "stream",
          "name": "stdout",
          "text": [
            "{'region': 'SOCO', 'region_full_name': 'Southern Co Services Inc', 'signal_type': 'co2_moer'}\n"
          ]
        }
      ]
    },
    {
      "cell_type": "code",
      "source": [
        "url = \"https://api.watttime.org/v3/region-from-loc\"\n",
        "\n",
        "headers = {\"Authorization\": f\"Bearer {TOKEN}\"}\n",
        "params = {\"latitude\": \"42.372\", \"longitude\": \"-76.519\", \"signal_type\": \"health_damage\"}\n",
        "response = requests.get(url, headers=headers, params=params)\n",
        "response.raise_for_status()\n",
        "print(response.json())"
      ],
      "metadata": {
        "colab": {
          "base_uri": "https://localhost:8080/",
          "height": 0
        },
        "id": "zCapzv3O1TXX",
        "outputId": "6b9010e0-dd2e-4283-8b21-f1828ee5562c"
      },
      "execution_count": 7,
      "outputs": [
        {
          "output_type": "stream",
          "name": "stdout",
          "text": [
            "{'region': 'NYISO_CENTRAL', 'region_full_name': 'NYISO Central', 'signal_type': 'health_damage'}\n"
          ]
        }
      ]
    },
    {
      "cell_type": "markdown",
      "source": [
        "#### Forecasting: `/v3/forecast`"
      ],
      "metadata": {
        "id": "hA09EbkA2a77"
      }
    },
    {
      "cell_type": "markdown",
      "source": [
        "###### Forecast data of region `CAISO_NORTH` and singal_type `co2_moer`"
      ],
      "metadata": {
        "id": "O4Ktq9acBTmK"
      }
    },
    {
      "cell_type": "code",
      "source": [
        "url = \"https://api.watttime.org/v3/forecast\"\n",
        "\n",
        "headers = {\"Authorization\": f\"Bearer {TOKEN}\"}\n",
        "params = {\n",
        "    \"region\": \"CAISO_NORTH\",\n",
        "    \"signal_type\": \"co2_moer\",\n",
        "}\n",
        "response = requests.get(url, headers=headers, params=params)\n",
        "response.raise_for_status()\n",
        "\n",
        "json_data = response.json()\n",
        "data = json_data['data']\n",
        "data\n",
        "\n",
        "df = pd.DataFrame(data)\n",
        "\n",
        "df['Date'] = pd.to_datetime(df['point_time']).dt.date\n",
        "df['Time'] = pd.to_datetime(df['point_time']).dt.time\n",
        "df['Hour'] = pd.to_datetime(df['point_time']).dt.hour\n",
        "df.drop(columns=['point_time'], inplace=True)\n",
        "df"
      ],
      "metadata": {
        "colab": {
          "base_uri": "https://localhost:8080/",
          "height": 424
        },
        "id": "pGnim6gD2UdQ",
        "outputId": "f33ecc05-8eab-4785-b09a-e84a4b982783"
      },
      "execution_count": 8,
      "outputs": [
        {
          "output_type": "execute_result",
          "data": {
            "text/plain": [
              "     value        Date      Time  Hour\n",
              "0    930.6  2024-10-03  05:50:00     5\n",
              "1    930.6  2024-10-03  05:55:00     5\n",
              "2    930.3  2024-10-03  06:00:00     6\n",
              "3    930.2  2024-10-03  06:05:00     6\n",
              "4    931.1  2024-10-03  06:10:00     6\n",
              "..     ...         ...       ...   ...\n",
              "283  933.7  2024-10-04  05:25:00     5\n",
              "284  934.1  2024-10-04  05:30:00     5\n",
              "285  931.7  2024-10-04  05:35:00     5\n",
              "286  931.1  2024-10-04  05:40:00     5\n",
              "287  931.1  2024-10-04  05:45:00     5\n",
              "\n",
              "[288 rows x 4 columns]"
            ],
            "text/html": [
              "\n",
              "  <div id=\"df-3caf49c1-9263-4786-9992-82655d589dee\" class=\"colab-df-container\">\n",
              "    <div>\n",
              "<style scoped>\n",
              "    .dataframe tbody tr th:only-of-type {\n",
              "        vertical-align: middle;\n",
              "    }\n",
              "\n",
              "    .dataframe tbody tr th {\n",
              "        vertical-align: top;\n",
              "    }\n",
              "\n",
              "    .dataframe thead th {\n",
              "        text-align: right;\n",
              "    }\n",
              "</style>\n",
              "<table border=\"1\" class=\"dataframe\">\n",
              "  <thead>\n",
              "    <tr style=\"text-align: right;\">\n",
              "      <th></th>\n",
              "      <th>value</th>\n",
              "      <th>Date</th>\n",
              "      <th>Time</th>\n",
              "      <th>Hour</th>\n",
              "    </tr>\n",
              "  </thead>\n",
              "  <tbody>\n",
              "    <tr>\n",
              "      <th>0</th>\n",
              "      <td>930.6</td>\n",
              "      <td>2024-10-03</td>\n",
              "      <td>05:50:00</td>\n",
              "      <td>5</td>\n",
              "    </tr>\n",
              "    <tr>\n",
              "      <th>1</th>\n",
              "      <td>930.6</td>\n",
              "      <td>2024-10-03</td>\n",
              "      <td>05:55:00</td>\n",
              "      <td>5</td>\n",
              "    </tr>\n",
              "    <tr>\n",
              "      <th>2</th>\n",
              "      <td>930.3</td>\n",
              "      <td>2024-10-03</td>\n",
              "      <td>06:00:00</td>\n",
              "      <td>6</td>\n",
              "    </tr>\n",
              "    <tr>\n",
              "      <th>3</th>\n",
              "      <td>930.2</td>\n",
              "      <td>2024-10-03</td>\n",
              "      <td>06:05:00</td>\n",
              "      <td>6</td>\n",
              "    </tr>\n",
              "    <tr>\n",
              "      <th>4</th>\n",
              "      <td>931.1</td>\n",
              "      <td>2024-10-03</td>\n",
              "      <td>06:10:00</td>\n",
              "      <td>6</td>\n",
              "    </tr>\n",
              "    <tr>\n",
              "      <th>...</th>\n",
              "      <td>...</td>\n",
              "      <td>...</td>\n",
              "      <td>...</td>\n",
              "      <td>...</td>\n",
              "    </tr>\n",
              "    <tr>\n",
              "      <th>283</th>\n",
              "      <td>933.7</td>\n",
              "      <td>2024-10-04</td>\n",
              "      <td>05:25:00</td>\n",
              "      <td>5</td>\n",
              "    </tr>\n",
              "    <tr>\n",
              "      <th>284</th>\n",
              "      <td>934.1</td>\n",
              "      <td>2024-10-04</td>\n",
              "      <td>05:30:00</td>\n",
              "      <td>5</td>\n",
              "    </tr>\n",
              "    <tr>\n",
              "      <th>285</th>\n",
              "      <td>931.7</td>\n",
              "      <td>2024-10-04</td>\n",
              "      <td>05:35:00</td>\n",
              "      <td>5</td>\n",
              "    </tr>\n",
              "    <tr>\n",
              "      <th>286</th>\n",
              "      <td>931.1</td>\n",
              "      <td>2024-10-04</td>\n",
              "      <td>05:40:00</td>\n",
              "      <td>5</td>\n",
              "    </tr>\n",
              "    <tr>\n",
              "      <th>287</th>\n",
              "      <td>931.1</td>\n",
              "      <td>2024-10-04</td>\n",
              "      <td>05:45:00</td>\n",
              "      <td>5</td>\n",
              "    </tr>\n",
              "  </tbody>\n",
              "</table>\n",
              "<p>288 rows × 4 columns</p>\n",
              "</div>\n",
              "    <div class=\"colab-df-buttons\">\n",
              "\n",
              "  <div class=\"colab-df-container\">\n",
              "    <button class=\"colab-df-convert\" onclick=\"convertToInteractive('df-3caf49c1-9263-4786-9992-82655d589dee')\"\n",
              "            title=\"Convert this dataframe to an interactive table.\"\n",
              "            style=\"display:none;\">\n",
              "\n",
              "  <svg xmlns=\"http://www.w3.org/2000/svg\" height=\"24px\" viewBox=\"0 -960 960 960\">\n",
              "    <path d=\"M120-120v-720h720v720H120Zm60-500h600v-160H180v160Zm220 220h160v-160H400v160Zm0 220h160v-160H400v160ZM180-400h160v-160H180v160Zm440 0h160v-160H620v160ZM180-180h160v-160H180v160Zm440 0h160v-160H620v160Z\"/>\n",
              "  </svg>\n",
              "    </button>\n",
              "\n",
              "  <style>\n",
              "    .colab-df-container {\n",
              "      display:flex;\n",
              "      gap: 12px;\n",
              "    }\n",
              "\n",
              "    .colab-df-convert {\n",
              "      background-color: #E8F0FE;\n",
              "      border: none;\n",
              "      border-radius: 50%;\n",
              "      cursor: pointer;\n",
              "      display: none;\n",
              "      fill: #1967D2;\n",
              "      height: 32px;\n",
              "      padding: 0 0 0 0;\n",
              "      width: 32px;\n",
              "    }\n",
              "\n",
              "    .colab-df-convert:hover {\n",
              "      background-color: #E2EBFA;\n",
              "      box-shadow: 0px 1px 2px rgba(60, 64, 67, 0.3), 0px 1px 3px 1px rgba(60, 64, 67, 0.15);\n",
              "      fill: #174EA6;\n",
              "    }\n",
              "\n",
              "    .colab-df-buttons div {\n",
              "      margin-bottom: 4px;\n",
              "    }\n",
              "\n",
              "    [theme=dark] .colab-df-convert {\n",
              "      background-color: #3B4455;\n",
              "      fill: #D2E3FC;\n",
              "    }\n",
              "\n",
              "    [theme=dark] .colab-df-convert:hover {\n",
              "      background-color: #434B5C;\n",
              "      box-shadow: 0px 1px 3px 1px rgba(0, 0, 0, 0.15);\n",
              "      filter: drop-shadow(0px 1px 2px rgba(0, 0, 0, 0.3));\n",
              "      fill: #FFFFFF;\n",
              "    }\n",
              "  </style>\n",
              "\n",
              "    <script>\n",
              "      const buttonEl =\n",
              "        document.querySelector('#df-3caf49c1-9263-4786-9992-82655d589dee button.colab-df-convert');\n",
              "      buttonEl.style.display =\n",
              "        google.colab.kernel.accessAllowed ? 'block' : 'none';\n",
              "\n",
              "      async function convertToInteractive(key) {\n",
              "        const element = document.querySelector('#df-3caf49c1-9263-4786-9992-82655d589dee');\n",
              "        const dataTable =\n",
              "          await google.colab.kernel.invokeFunction('convertToInteractive',\n",
              "                                                    [key], {});\n",
              "        if (!dataTable) return;\n",
              "\n",
              "        const docLinkHtml = 'Like what you see? Visit the ' +\n",
              "          '<a target=\"_blank\" href=https://colab.research.google.com/notebooks/data_table.ipynb>data table notebook</a>'\n",
              "          + ' to learn more about interactive tables.';\n",
              "        element.innerHTML = '';\n",
              "        dataTable['output_type'] = 'display_data';\n",
              "        await google.colab.output.renderOutput(dataTable, element);\n",
              "        const docLink = document.createElement('div');\n",
              "        docLink.innerHTML = docLinkHtml;\n",
              "        element.appendChild(docLink);\n",
              "      }\n",
              "    </script>\n",
              "  </div>\n",
              "\n",
              "\n",
              "<div id=\"df-d0101e55-9a03-420a-a9d0-f8c6d7288069\">\n",
              "  <button class=\"colab-df-quickchart\" onclick=\"quickchart('df-d0101e55-9a03-420a-a9d0-f8c6d7288069')\"\n",
              "            title=\"Suggest charts\"\n",
              "            style=\"display:none;\">\n",
              "\n",
              "<svg xmlns=\"http://www.w3.org/2000/svg\" height=\"24px\"viewBox=\"0 0 24 24\"\n",
              "     width=\"24px\">\n",
              "    <g>\n",
              "        <path d=\"M19 3H5c-1.1 0-2 .9-2 2v14c0 1.1.9 2 2 2h14c1.1 0 2-.9 2-2V5c0-1.1-.9-2-2-2zM9 17H7v-7h2v7zm4 0h-2V7h2v10zm4 0h-2v-4h2v4z\"/>\n",
              "    </g>\n",
              "</svg>\n",
              "  </button>\n",
              "\n",
              "<style>\n",
              "  .colab-df-quickchart {\n",
              "      --bg-color: #E8F0FE;\n",
              "      --fill-color: #1967D2;\n",
              "      --hover-bg-color: #E2EBFA;\n",
              "      --hover-fill-color: #174EA6;\n",
              "      --disabled-fill-color: #AAA;\n",
              "      --disabled-bg-color: #DDD;\n",
              "  }\n",
              "\n",
              "  [theme=dark] .colab-df-quickchart {\n",
              "      --bg-color: #3B4455;\n",
              "      --fill-color: #D2E3FC;\n",
              "      --hover-bg-color: #434B5C;\n",
              "      --hover-fill-color: #FFFFFF;\n",
              "      --disabled-bg-color: #3B4455;\n",
              "      --disabled-fill-color: #666;\n",
              "  }\n",
              "\n",
              "  .colab-df-quickchart {\n",
              "    background-color: var(--bg-color);\n",
              "    border: none;\n",
              "    border-radius: 50%;\n",
              "    cursor: pointer;\n",
              "    display: none;\n",
              "    fill: var(--fill-color);\n",
              "    height: 32px;\n",
              "    padding: 0;\n",
              "    width: 32px;\n",
              "  }\n",
              "\n",
              "  .colab-df-quickchart:hover {\n",
              "    background-color: var(--hover-bg-color);\n",
              "    box-shadow: 0 1px 2px rgba(60, 64, 67, 0.3), 0 1px 3px 1px rgba(60, 64, 67, 0.15);\n",
              "    fill: var(--button-hover-fill-color);\n",
              "  }\n",
              "\n",
              "  .colab-df-quickchart-complete:disabled,\n",
              "  .colab-df-quickchart-complete:disabled:hover {\n",
              "    background-color: var(--disabled-bg-color);\n",
              "    fill: var(--disabled-fill-color);\n",
              "    box-shadow: none;\n",
              "  }\n",
              "\n",
              "  .colab-df-spinner {\n",
              "    border: 2px solid var(--fill-color);\n",
              "    border-color: transparent;\n",
              "    border-bottom-color: var(--fill-color);\n",
              "    animation:\n",
              "      spin 1s steps(1) infinite;\n",
              "  }\n",
              "\n",
              "  @keyframes spin {\n",
              "    0% {\n",
              "      border-color: transparent;\n",
              "      border-bottom-color: var(--fill-color);\n",
              "      border-left-color: var(--fill-color);\n",
              "    }\n",
              "    20% {\n",
              "      border-color: transparent;\n",
              "      border-left-color: var(--fill-color);\n",
              "      border-top-color: var(--fill-color);\n",
              "    }\n",
              "    30% {\n",
              "      border-color: transparent;\n",
              "      border-left-color: var(--fill-color);\n",
              "      border-top-color: var(--fill-color);\n",
              "      border-right-color: var(--fill-color);\n",
              "    }\n",
              "    40% {\n",
              "      border-color: transparent;\n",
              "      border-right-color: var(--fill-color);\n",
              "      border-top-color: var(--fill-color);\n",
              "    }\n",
              "    60% {\n",
              "      border-color: transparent;\n",
              "      border-right-color: var(--fill-color);\n",
              "    }\n",
              "    80% {\n",
              "      border-color: transparent;\n",
              "      border-right-color: var(--fill-color);\n",
              "      border-bottom-color: var(--fill-color);\n",
              "    }\n",
              "    90% {\n",
              "      border-color: transparent;\n",
              "      border-bottom-color: var(--fill-color);\n",
              "    }\n",
              "  }\n",
              "</style>\n",
              "\n",
              "  <script>\n",
              "    async function quickchart(key) {\n",
              "      const quickchartButtonEl =\n",
              "        document.querySelector('#' + key + ' button');\n",
              "      quickchartButtonEl.disabled = true;  // To prevent multiple clicks.\n",
              "      quickchartButtonEl.classList.add('colab-df-spinner');\n",
              "      try {\n",
              "        const charts = await google.colab.kernel.invokeFunction(\n",
              "            'suggestCharts', [key], {});\n",
              "      } catch (error) {\n",
              "        console.error('Error during call to suggestCharts:', error);\n",
              "      }\n",
              "      quickchartButtonEl.classList.remove('colab-df-spinner');\n",
              "      quickchartButtonEl.classList.add('colab-df-quickchart-complete');\n",
              "    }\n",
              "    (() => {\n",
              "      let quickchartButtonEl =\n",
              "        document.querySelector('#df-d0101e55-9a03-420a-a9d0-f8c6d7288069 button');\n",
              "      quickchartButtonEl.style.display =\n",
              "        google.colab.kernel.accessAllowed ? 'block' : 'none';\n",
              "    })();\n",
              "  </script>\n",
              "</div>\n",
              "\n",
              "  <div id=\"id_d5e3f54f-8cad-4a63-bec8-d0adf48c6202\">\n",
              "    <style>\n",
              "      .colab-df-generate {\n",
              "        background-color: #E8F0FE;\n",
              "        border: none;\n",
              "        border-radius: 50%;\n",
              "        cursor: pointer;\n",
              "        display: none;\n",
              "        fill: #1967D2;\n",
              "        height: 32px;\n",
              "        padding: 0 0 0 0;\n",
              "        width: 32px;\n",
              "      }\n",
              "\n",
              "      .colab-df-generate:hover {\n",
              "        background-color: #E2EBFA;\n",
              "        box-shadow: 0px 1px 2px rgba(60, 64, 67, 0.3), 0px 1px 3px 1px rgba(60, 64, 67, 0.15);\n",
              "        fill: #174EA6;\n",
              "      }\n",
              "\n",
              "      [theme=dark] .colab-df-generate {\n",
              "        background-color: #3B4455;\n",
              "        fill: #D2E3FC;\n",
              "      }\n",
              "\n",
              "      [theme=dark] .colab-df-generate:hover {\n",
              "        background-color: #434B5C;\n",
              "        box-shadow: 0px 1px 3px 1px rgba(0, 0, 0, 0.15);\n",
              "        filter: drop-shadow(0px 1px 2px rgba(0, 0, 0, 0.3));\n",
              "        fill: #FFFFFF;\n",
              "      }\n",
              "    </style>\n",
              "    <button class=\"colab-df-generate\" onclick=\"generateWithVariable('df')\"\n",
              "            title=\"Generate code using this dataframe.\"\n",
              "            style=\"display:none;\">\n",
              "\n",
              "  <svg xmlns=\"http://www.w3.org/2000/svg\" height=\"24px\"viewBox=\"0 0 24 24\"\n",
              "       width=\"24px\">\n",
              "    <path d=\"M7,19H8.4L18.45,9,17,7.55,7,17.6ZM5,21V16.75L18.45,3.32a2,2,0,0,1,2.83,0l1.4,1.43a1.91,1.91,0,0,1,.58,1.4,1.91,1.91,0,0,1-.58,1.4L9.25,21ZM18.45,9,17,7.55Zm-12,3A5.31,5.31,0,0,0,4.9,8.1,5.31,5.31,0,0,0,1,6.5,5.31,5.31,0,0,0,4.9,4.9,5.31,5.31,0,0,0,6.5,1,5.31,5.31,0,0,0,8.1,4.9,5.31,5.31,0,0,0,12,6.5,5.46,5.46,0,0,0,6.5,12Z\"/>\n",
              "  </svg>\n",
              "    </button>\n",
              "    <script>\n",
              "      (() => {\n",
              "      const buttonEl =\n",
              "        document.querySelector('#id_d5e3f54f-8cad-4a63-bec8-d0adf48c6202 button.colab-df-generate');\n",
              "      buttonEl.style.display =\n",
              "        google.colab.kernel.accessAllowed ? 'block' : 'none';\n",
              "\n",
              "      buttonEl.onclick = () => {\n",
              "        google.colab.notebook.generateWithVariable('df');\n",
              "      }\n",
              "      })();\n",
              "    </script>\n",
              "  </div>\n",
              "\n",
              "    </div>\n",
              "  </div>\n"
            ],
            "application/vnd.google.colaboratory.intrinsic+json": {
              "type": "dataframe",
              "variable_name": "df",
              "summary": "{\n  \"name\": \"df\",\n  \"rows\": 288,\n  \"fields\": [\n    {\n      \"column\": \"value\",\n      \"properties\": {\n        \"dtype\": \"number\",\n        \"std\": 47.0821789696916,\n        \"min\": 802.9,\n        \"max\": 1049.8,\n        \"num_unique_values\": 236,\n        \"samples\": [\n          948.8,\n          1030.6,\n          1020.5\n        ],\n        \"semantic_type\": \"\",\n        \"description\": \"\"\n      }\n    },\n    {\n      \"column\": \"Date\",\n      \"properties\": {\n        \"dtype\": \"date\",\n        \"min\": \"2024-10-03\",\n        \"max\": \"2024-10-04\",\n        \"num_unique_values\": 2,\n        \"samples\": [\n          \"2024-10-04\",\n          \"2024-10-03\"\n        ],\n        \"semantic_type\": \"\",\n        \"description\": \"\"\n      }\n    },\n    {\n      \"column\": \"Time\",\n      \"properties\": {\n        \"dtype\": \"string\",\n        \"num_unique_values\": 288,\n        \"samples\": [\n          \"09:35:00\",\n          \"18:55:00\"\n        ],\n        \"semantic_type\": \"\",\n        \"description\": \"\"\n      }\n    },\n    {\n      \"column\": \"Hour\",\n      \"properties\": {\n        \"dtype\": \"int32\",\n        \"num_unique_values\": 24,\n        \"samples\": [\n          13,\n          21\n        ],\n        \"semantic_type\": \"\",\n        \"description\": \"\"\n      }\n    }\n  ]\n}"
            }
          },
          "metadata": {},
          "execution_count": 8
        }
      ]
    },
    {
      "cell_type": "code",
      "source": [
        "df['Date'].value_counts()"
      ],
      "metadata": {
        "colab": {
          "base_uri": "https://localhost:8080/",
          "height": 178
        },
        "id": "w0zJAq1v2pvQ",
        "outputId": "b864ed1f-d921-450d-b0f8-8e7425b761c5"
      },
      "execution_count": 9,
      "outputs": [
        {
          "output_type": "execute_result",
          "data": {
            "text/plain": [
              "Date\n",
              "2024-10-03    218\n",
              "2024-10-04     70\n",
              "Name: count, dtype: int64"
            ],
            "text/html": [
              "<div>\n",
              "<style scoped>\n",
              "    .dataframe tbody tr th:only-of-type {\n",
              "        vertical-align: middle;\n",
              "    }\n",
              "\n",
              "    .dataframe tbody tr th {\n",
              "        vertical-align: top;\n",
              "    }\n",
              "\n",
              "    .dataframe thead th {\n",
              "        text-align: right;\n",
              "    }\n",
              "</style>\n",
              "<table border=\"1\" class=\"dataframe\">\n",
              "  <thead>\n",
              "    <tr style=\"text-align: right;\">\n",
              "      <th></th>\n",
              "      <th>count</th>\n",
              "    </tr>\n",
              "    <tr>\n",
              "      <th>Date</th>\n",
              "      <th></th>\n",
              "    </tr>\n",
              "  </thead>\n",
              "  <tbody>\n",
              "    <tr>\n",
              "      <th>2024-10-03</th>\n",
              "      <td>218</td>\n",
              "    </tr>\n",
              "    <tr>\n",
              "      <th>2024-10-04</th>\n",
              "      <td>70</td>\n",
              "    </tr>\n",
              "  </tbody>\n",
              "</table>\n",
              "</div><br><label><b>dtype:</b> int64</label>"
            ]
          },
          "metadata": {},
          "execution_count": 9
        }
      ]
    },
    {
      "cell_type": "code",
      "source": [
        "unique_dates = df['Date'].unique()\n",
        "unique_dates"
      ],
      "metadata": {
        "colab": {
          "base_uri": "https://localhost:8080/",
          "height": 0
        },
        "id": "R_qUXoTCn6oH",
        "outputId": "1d62e151-44b5-41a7-b9c0-b5a4737a90a3"
      },
      "execution_count": 10,
      "outputs": [
        {
          "output_type": "execute_result",
          "data": {
            "text/plain": [
              "array([datetime.date(2024, 10, 3), datetime.date(2024, 10, 4)],\n",
              "      dtype=object)"
            ]
          },
          "metadata": {},
          "execution_count": 10
        }
      ]
    },
    {
      "cell_type": "markdown",
      "source": [
        "###### For 1st Date of Prediction"
      ],
      "metadata": {
        "id": "9Sb6jzbtBKKf"
      }
    },
    {
      "cell_type": "code",
      "source": [
        "df_date_01 = df[pd.to_datetime(df['Date']) == pd.to_datetime(unique_dates[0])]\n",
        "df_date_01.shape"
      ],
      "metadata": {
        "colab": {
          "base_uri": "https://localhost:8080/",
          "height": 0
        },
        "id": "I9gGKBvc7GMv",
        "outputId": "164a1f35-772d-46d2-bf25-1c326c166626"
      },
      "execution_count": 11,
      "outputs": [
        {
          "output_type": "execute_result",
          "data": {
            "text/plain": [
              "(218, 4)"
            ]
          },
          "metadata": {},
          "execution_count": 11
        }
      ]
    },
    {
      "cell_type": "code",
      "source": [
        "plt.figure(figsize=(10, 6))\n",
        "plt.plot(df_date_01['Hour'], df_date_01['value'], marker='o', linestyle=\"--\", color='red', label='Value')\n",
        "\n",
        "# Rotate date labels for better readability\n",
        "plt.gcf().autofmt_xdate()\n",
        "\n",
        "# Add labels and title\n",
        "plt.xlabel('Time in Hour')\n",
        "plt.ylabel('Value')\n",
        "plt.title('Value over Time')\n",
        "\n",
        "# Show the plot\n",
        "plt.legend()\n",
        "plt.grid(True)\n",
        "plt.show()"
      ],
      "metadata": {
        "colab": {
          "base_uri": "https://localhost:8080/",
          "height": 524
        },
        "id": "7WaUFOtX7o9j",
        "outputId": "97d29751-70e4-451d-9e57-39e1f14251b2"
      },
      "execution_count": 12,
      "outputs": [
        {
          "output_type": "display_data",
          "data": {
            "text/plain": [
              "<Figure size 1000x600 with 1 Axes>"
            ],
            "image/png": "[encoded data removed]"
          },
          "metadata": {}
        }
      ]
    },
    {
      "cell_type": "markdown",
      "source": [
        "###### For 2nd Date of Forecast"
      ],
      "metadata": {
        "id": "aEzeLxGrET-n"
      }
    },
    {
      "cell_type": "code",
      "source": [
        "df_date_02 = df[pd.to_datetime(df['Date']) == pd.to_datetime(unique_dates[1])]\n",
        "df_date_02.shape"
      ],
      "metadata": {
        "colab": {
          "base_uri": "https://localhost:8080/",
          "height": 0
        },
        "id": "66NgUQFFEYjz",
        "outputId": "02f4382b-aeae-4e5a-c4c6-b530f5233d19"
      },
      "execution_count": 13,
      "outputs": [
        {
          "output_type": "execute_result",
          "data": {
            "text/plain": [
              "(70, 4)"
            ]
          },
          "metadata": {},
          "execution_count": 13
        }
      ]
    },
    {
      "cell_type": "code",
      "source": [
        "plt.figure(figsize=(10, 6))\n",
        "plt.plot(df_date_02['Hour'], df_date_02['value'], marker='o', linestyle=\"--\", color='red', label='Value')\n",
        "\n",
        "# Rotate date labels for better readability\n",
        "plt.gcf().autofmt_xdate()\n",
        "\n",
        "# Add labels and title\n",
        "plt.xlabel('Time in Hour')\n",
        "plt.ylabel('Value')\n",
        "plt.title('Value over Time')\n",
        "\n",
        "# Show the plot\n",
        "plt.legend()\n",
        "plt.grid(True)\n",
        "plt.show()"
      ],
      "metadata": {
        "colab": {
          "base_uri": "https://localhost:8080/",
          "height": 513
        },
        "id": "YgQKr_W9Ec10",
        "outputId": "cc484bbf-542a-4ec1-f8cb-68fe4624f213"
      },
      "execution_count": 14,
      "outputs": [
        {
          "output_type": "display_data",
          "data": {
            "text/plain": [
              "<Figure size 1000x600 with 1 Axes>"
            ],
            "image/png": "[encoded data removed]"
          },
          "metadata": {}
        }
      ]
    },
    {
      "cell_type": "code",
      "source": [],
      "metadata": {
        "id": "ffrOvCQ_7j0D"
      },
      "execution_count": null,
      "outputs": []
    }
  ]
}